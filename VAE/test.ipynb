{
 "cells": [
  {
   "cell_type": "code",
   "execution_count": 1,
   "metadata": {},
   "outputs": [
    {
     "data": {
      "text/plain": [
       "True"
      ]
     },
     "execution_count": 1,
     "metadata": {},
     "output_type": "execute_result"
    }
   ],
   "source": [
    "import torch\n",
    "torch.cuda.is_available()"
   ]
  },
  {
   "cell_type": "code",
   "execution_count": 2,
   "metadata": {},
   "outputs": [],
   "source": [
    "import requests\n",
    "from torchvision import transforms"
   ]
  },
  {
   "cell_type": "code",
   "execution_count": 6,
   "metadata": {},
   "outputs": [
    {
     "name": "stdout",
     "output_type": "stream",
     "text": [
      "torch.Size([16, 3, 64, 64])\n"
     ]
    }
   ],
   "source": [
    "import os \n",
    "import torch\n",
    "from PIL import Image\n",
    "from torch.utils.data import DataLoader, Dataset\n",
    "from torchvision import transforms\n",
    "\n",
    "# 区分清楚：class 子类(父类)，def 函数(参数) ，这里是继承pytorch中的父类 Dataset 并进行改写\n",
    "class CelebADataset(Dataset):\n",
    "    # __init__是类的默认构造函数，self必写，root 和 img_shape 是子类的默认必有的参数，之后传参的时候要用的；\n",
    "    def __init__(self, root, img_shape=(64, 64)) -> None:\n",
    "        super().__init__()\n",
    "        self.root = root\n",
    "        self.img_shape = img_shape\n",
    "        # 获取根目录 root 下的所有 directory\n",
    "        self.filenames = sorted(os.listdir(root))\n",
    "\n",
    "    # 返回文件名的数量，即数据集的大小\n",
    "    def __len__(self) -> int:\n",
    "        return len(self.filenames)\n",
    "\n",
    "    def __getitem__(self, index: int):\n",
    "        # 使用 os.path.join 将根目录和其中获取的 directory name 组合成完整的文件路径。\n",
    "        path = os.path.join(self.root, self.filenames[index])\n",
    "        img = Image.open(path).convert('RGB')\n",
    "        # 图片处理流水线，裁剪、放缩、torch张量\n",
    "        pipeline = transforms.Compose([\n",
    "            transforms.CenterCrop(168),\n",
    "            transforms.Resize(self.img_shape),\n",
    "            transforms.ToTensor()\n",
    "        ])\n",
    "        return pipeline(img)\n",
    "    \n",
    "# DataLoader 批量加载数据，设置 epoch 大小为 16，并随机打乱数据（shuffle=True）\n",
    "# 如果你想表示一个目录，通常在路径末尾加上斜杠是一个好习惯; 如果想表示文件，路径末尾不应加斜杠：    \n",
    "def get_dataloader(root=\"/data/home/huangyx/workspace/diffusion_learn/VAE/img_align_celeba/\", **kwargs):\n",
    "    # root 和 img_shape 是定义的默认参数，一定要有的；img_shape已经固定了这里可以不传，root 是一定要传的    \n",
    "    # **kwargs 说明允许传入其他参数\n",
    "    # crop, resize 等操作已经在定义类时一同定义了；所以传参传入后，子类定义的过程就会进行一遍；这里输出的 dataset 也是经过子类加工的对象\n",
    "    dataset = CelebADataset(root, **kwargs)\n",
    "    return DataLoader(dataset, 16, shuffle=True)\n",
    "\n",
    "\n",
    "# 为了验证Dataloader的正确性，我们可以写一些脚本来查看Dataloader里的一个batch的图片。(和主任务没关系)\n",
    "if __name__ == '__main__':\n",
    "    dataloader = get_dataloader()\n",
    "    img = next(iter(dataloader))\n",
    "    print(img.shape)\n",
    "    # Concat 4x4 images\n",
    "    N, C, H, W = img.shape\n",
    "    assert N == 16\n",
    "    img = torch.permute(img, (1, 0, 2, 3))\n",
    "    img = torch.reshape(img, (C, N // 4, 4 * H, W))\n",
    "    img = torch.permute(img, (0, 2, 1, 3))\n",
    "    img = torch.reshape(img, (C, 4 * H, 4 * W))\n",
    "    img = transforms.ToPILImage()(img)\n",
    "    img.save('/data/home/huangyx/workspace/diffusion_learn/VAE/tmp_test.jpg')"
   ]
  }
 ],
 "metadata": {
  "kernelspec": {
   "display_name": "space1",
   "language": "python",
   "name": "python3"
  },
  "language_info": {
   "codemirror_mode": {
    "name": "ipython",
    "version": 3
   },
   "file_extension": ".py",
   "mimetype": "text/x-python",
   "name": "python",
   "nbconvert_exporter": "python",
   "pygments_lexer": "ipython3",
   "version": "3.9.19"
  },
  "orig_nbformat": 4
 },
 "nbformat": 4,
 "nbformat_minor": 2
}
